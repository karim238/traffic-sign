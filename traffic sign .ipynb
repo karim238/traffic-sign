{
 "cells": [
  {
   "cell_type": "code",
   "execution_count": 1,
   "id": "1d843361",
   "metadata": {},
   "outputs": [],
   "source": [
    "import random\n",
    "import pickle\n",
    "import matplotlib.pyplot as plt\n",
    "import numpy as np\n",
    "import pandas as pd\n",
    "import seaborn as sns"
   ]
  },
  {
   "cell_type": "code",
   "execution_count": 2,
   "id": "25befa2f",
   "metadata": {},
   "outputs": [],
   "source": [
    "with open('train.p',mode='rb') as train_data:\n",
    "    train=pickle.load(train_data)\n",
    "with open('test.p',mode='rb') as test_data:\n",
    "    test=pickle.load(test_data)\n",
    "with open('valid.p',mode='rb') as valid_data:\n",
    "    valid=pickle.load(valid_data)"
   ]
  },
  {
   "cell_type": "code",
   "execution_count": 7,
   "id": "777dbd4f",
   "metadata": {},
   "outputs": [
    {
     "data": {
      "text/plain": [
       "dict_keys(['coords', 'labels', 'features', 'sizes'])"
      ]
     },
     "execution_count": 7,
     "metadata": {},
     "output_type": "execute_result"
    }
   ],
   "source": [
    "train.keys()"
   ]
  },
  {
   "cell_type": "code",
   "execution_count": 8,
   "id": "86490761",
   "metadata": {},
   "outputs": [],
   "source": [
    "x_train,y_train=train['features'],train['labels']\n",
    "x_test,y_test=test['features'],test['labels']\n",
    "x_valid,y_valid=valid['features'],valid['labels']"
   ]
  },
  {
   "cell_type": "code",
   "execution_count": 9,
   "id": "e21aaab8",
   "metadata": {},
   "outputs": [
    {
     "data": {
      "text/plain": [
       "(34799, 32, 32, 3)"
      ]
     },
     "execution_count": 9,
     "metadata": {},
     "output_type": "execute_result"
    }
   ],
   "source": [
    "x_train.shape"
   ]
  },
  {
   "cell_type": "code",
   "execution_count": 12,
   "id": "58a054ca",
   "metadata": {},
   "outputs": [
    {
     "data": {
      "text/plain": [
       "<matplotlib.image.AxesImage at 0x24f60627100>"
      ]
     },
     "execution_count": 12,
     "metadata": {},
     "output_type": "execute_result"
    },
    {
     "data": {
      "image/png": "[encoded data removed]",
      "text/plain": [
       "<Figure size 432x288 with 1 Axes>"
      ]
     },
     "metadata": {
      "needs_background": "light"
     },
     "output_type": "display_data"
    }
   ],
   "source": [
    "plt.imshow(x_train[600])"
   ]
  },
  {
   "cell_type": "code",
   "execution_count": 16,
   "id": "75f266fb",
   "metadata": {},
   "outputs": [],
   "source": [
    "from sklearn.utils import shuffle"
   ]
  },
  {
   "cell_type": "code",
   "execution_count": 17,
   "id": "176c36b6",
   "metadata": {},
   "outputs": [],
   "source": [
    "x_train,y_train=shuffle(x_train,y_train)"
   ]
  },
  {
   "cell_type": "code",
   "execution_count": 18,
   "id": "2ae486b1",
   "metadata": {},
   "outputs": [],
   "source": [
    "x_train_grey=np.sum(x_train/3,axis=3,keepdims=True)\n",
    "x_test_grey=np.sum(x_test/3,axis=3,keepdims=True)\n",
    "x_valid_grey=np.sum(x_valid/3,axis=3,keepdims=True)"
   ]
  },
  {
   "cell_type": "code",
   "execution_count": 21,
   "id": "b529c024",
   "metadata": {},
   "outputs": [],
   "source": [
    "x_train_norm=(x_train_grey-128)/128\n",
    "x_test_norm=(x_test_grey-128)/128\n",
    "x_valid_norm=(x_valid_grey-128)/128"
   ]
  },
  {
   "cell_type": "code",
   "execution_count": 25,
   "id": "a099e61b",
   "metadata": {},
   "outputs": [],
   "source": [
    "from keras.models import Sequential\n",
    "from keras.layers import Conv2D,Dense,Flatten,AveragePooling2D\n",
    "from sklearn.model_selection import train_test_split"
   ]
  },
  {
   "cell_type": "code",
   "execution_count": 26,
   "id": "7ab90c93",
   "metadata": {},
   "outputs": [
    {
     "data": {
      "text/plain": [
       "(12630, 32, 32, 1)"
      ]
     },
     "execution_count": 26,
     "metadata": {},
     "output_type": "execute_result"
    }
   ],
   "source": [
    "x_test_norm.shape"
   ]
  },
  {
   "cell_type": "code",
   "execution_count": 42,
   "id": "669dd592",
   "metadata": {},
   "outputs": [],
   "source": [
    "cnn_model=Sequential()\n",
    "cnn_model.add(Conv2D(filters=6,kernel_size=(5,5),activation='relu',input_shape=(32,32,1)))\n",
    "cnn_model.add(AveragePooling2D())\n",
    "cnn_model.add(Conv2D(filters=16,kernel_size=(5,5),activation='relu'))\n",
    "cnn_model.add(AveragePooling2D())\n",
    "\n",
    "cnn_model.add(Flatten())\n",
    "\n",
    "cnn_model.add(Dense(120,activation='relu'))\n",
    "cnn_model.add(Dense(84,activation='relu'))\n",
    "cnn_model.add(Dense(100,activation='relu'))"
   ]
  },
  {
   "cell_type": "code",
   "execution_count": 43,
   "id": "4b882856",
   "metadata": {},
   "outputs": [],
   "source": [
    "cnn_model.compile(loss='sparse_categorical_crossentropy',optimizer='adam',metrics=['accuracy'])"
   ]
  },
  {
   "cell_type": "code",
   "execution_count": 44,
   "id": "8e1ce164",
   "metadata": {},
   "outputs": [
    {
     "name": "stdout",
     "output_type": "stream",
     "text": [
      "Epoch 1/10\n",
      "70/70 [==============================] - 5s 63ms/step - loss: 6.6322 - accuracy: 0.0739 - val_loss: 6.4301 - val_accuracy: 0.0791\n",
      "Epoch 2/10\n",
      "70/70 [==============================] - 4s 64ms/step - loss: 5.7719 - accuracy: 0.1100 - val_loss: 6.7706 - val_accuracy: 0.0633\n",
      "Epoch 3/10\n",
      "70/70 [==============================] - 5s 66ms/step - loss: 5.9229 - accuracy: 0.1311 - val_loss: 7.1429 - val_accuracy: 0.0546\n",
      "Epoch 4/10\n",
      "70/70 [==============================] - 5s 67ms/step - loss: 6.1321 - accuracy: 0.1006 - val_loss: 4.6080 - val_accuracy: 0.0068\n",
      "Epoch 5/10\n",
      "70/70 [==============================] - 5s 68ms/step - loss: 4.6055 - accuracy: 0.0052 - val_loss: 4.6052 - val_accuracy: 0.0068\n",
      "Epoch 6/10\n",
      "70/70 [==============================] - 5s 65ms/step - loss: 4.6052 - accuracy: 0.0052 - val_loss: 4.6052 - val_accuracy: 0.0068\n",
      "Epoch 7/10\n",
      "70/70 [==============================] - 4s 64ms/step - loss: 4.6052 - accuracy: 0.0052 - val_loss: 4.6052 - val_accuracy: 0.0068\n",
      "Epoch 8/10\n",
      "70/70 [==============================] - 4s 62ms/step - loss: 4.6052 - accuracy: 0.0052 - val_loss: 4.6052 - val_accuracy: 0.0068\n",
      "Epoch 9/10\n",
      "70/70 [==============================] - 5s 73ms/step - loss: 4.6052 - accuracy: 0.0052 - val_loss: 4.6052 - val_accuracy: 0.0068\n",
      "Epoch 10/10\n",
      "70/70 [==============================] - 6s 83ms/step - loss: 4.6052 - accuracy: 0.0052 - val_loss: 4.6052 - val_accuracy: 0.0068\n"
     ]
    },
    {
     "data": {
      "text/plain": [
       "<keras.callbacks.History at 0x24fa49fe7c0>"
      ]
     },
     "execution_count": 44,
     "metadata": {},
     "output_type": "execute_result"
    }
   ],
   "source": [
    "cnn_model.fit(x_train_norm,y_train,epochs=10,batch_size=500,validation_data=(x_valid_norm,y_valid))"
   ]
  },
  {
   "cell_type": "code",
   "execution_count": null,
   "id": "2145c65d",
   "metadata": {},
   "outputs": [],
   "source": [
    "score = cnn_model.evaluate(x_test_norm, y_test,verbose=0)\n",
    "print('Test Accuracy : {:.4f}'.format(score[1]))"
   ]
  },
  {
   "cell_type": "code",
   "execution_count": null,
   "id": "eb7dd5a5",
   "metadata": {},
   "outputs": [],
   "source": [
    "\n"
   ]
  },
  {
   "cell_type": "code",
   "execution_count": null,
   "id": "c17b4c7f",
   "metadata": {},
   "outputs": [],
   "source": []
  },
  {
   "cell_type": "code",
   "execution_count": null,
   "id": "46bbe4d2",
   "metadata": {},
   "outputs": [],
   "source": []
  }
 ],
 "metadata": {
  "kernelspec": {
   "display_name": "Python 3",
   "language": "python",
   "name": "python3"
  },
  "language_info": {
   "codemirror_mode": {
    "name": "ipython",
    "version": 3
   },
   "file_extension": ".py",
   "mimetype": "text/x-python",
   "name": "python",
   "nbconvert_exporter": "python",
   "pygments_lexer": "ipython3",
   "version": "3.8.8"
  }
 },
 "nbformat": 4,
 "nbformat_minor": 5
}
